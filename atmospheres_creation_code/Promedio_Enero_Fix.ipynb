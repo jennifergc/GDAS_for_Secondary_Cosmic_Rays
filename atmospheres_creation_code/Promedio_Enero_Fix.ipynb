{
 "cells": [
  {
   "cell_type": "code",
   "execution_count": 1,
   "metadata": {},
   "outputs": [],
   "source": [
    "import matplotlib.pyplot as plt\n",
    "import numpy as np\n",
    "from matplotlib import colors as mcolors"
   ]
  },
  {
   "cell_type": "code",
   "execution_count": 3,
   "metadata": {},
   "outputs": [
    {
     "name": "stdout",
     "output_type": "stream",
     "text": [
      "[[  0.00000000e+00   3.75878605e+05   9.72747010e+05   2.63729871e+06\n",
      "    1.00000000e+07]\n",
      " [ -2.06765200e+02  -8.86149895e+01  -3.25726949e+00   3.03919380e-04\n",
      "    1.12829200e-02]\n",
      " [  1.25583578e+03   1.14764519e+03   1.18286204e+03   1.49065343e+03\n",
      "    1.00000000e+00]\n",
      " [  1.11131651e+06   9.64684068e+05   7.68011116e+05   7.02447066e+05\n",
      "    1.00000000e+09]]\n"
     ]
    }
   ],
   "source": [
    "mensual = []\n",
    "\n",
    "for i in range(1514782800, 1517418001, 43200):\n",
    "\n",
    "    name = \"Atm_\" + str(i)\n",
    "    #print(name)\n",
    "    \n",
    "    cnt = 0\n",
    "    param = np.zeros((4,5))\n",
    "    \n",
    "    with open(\"enero/\" + name + \".dat\", \"r\") as file:\n",
    "        for line in file:\n",
    "            if line[0] != \"#\" and cnt <= 3:\n",
    " \n",
    "                param[cnt,:] = line.split()\n",
    "                cnt = cnt + 1\n",
    "                \n",
    "    lay0 = param[0,0]\n",
    "    lay1 = param[0,1]\n",
    "    lay2 = param[0,2]\n",
    "    lay3 = param[0,3]\n",
    "    lay4 = param[0,4]\n",
    "\n",
    "    #capa 1\n",
    "    a1 = param[1,0]\n",
    "    b1 = param[2,0]\n",
    "    c1 = param[3,0]\n",
    "    #capa 2\n",
    "    a2 = param[1,1]\n",
    "    b2 = param[2,1]\n",
    "    c2 = param[3,1]\n",
    "    #capa 3\n",
    "    a3 = param[1,2]\n",
    "    b3 = param[2,2]\n",
    "    c3 = param[3,2]\n",
    "    #capa 4\n",
    "    a4 = param[1,3]\n",
    "    b4 = param[2,3]\n",
    "    c4 = param[3,3]\n",
    "    #capa 5\n",
    "    a5 = param[1,4]\n",
    "    b5 = param[2,4]\n",
    "    c5 = param[3,4]\n",
    "    \n",
    "    h1 = np.linspace(lay0, lay1, 100)\n",
    "    h2 = np.linspace(lay1, lay2, 100)\n",
    "    h3 = np.linspace(lay2, lay3, 100)\n",
    "    h4 = np.linspace(lay3, lay4, 100)\n",
    "    h5 = np.linspace(lay4, 11200000, 100)\n",
    "\n",
    "    \n",
    "    d1 = a1+b1*np.exp(-h1/c1)\n",
    "    d2 = a2+b2*np.exp(-h2/c2)\n",
    "    d3 = a3+b3*np.exp(-h3/c3)\n",
    "    d4 = a4+b4*np.exp(-h4/c4)\n",
    "    d5 = a5-b5*(h5 / c5)\n",
    "    \n",
    "    H=np.concatenate((h1,h2,h3,h4,h5), axis=0)\n",
    "    D=np.concatenate((d1,d2,d3,d4,d5), axis=0)\n",
    "    \n",
    "    mensual.append(D)\n",
    "    \n",
    "print(param)"
   ]
  },
  {
   "cell_type": "code",
   "execution_count": 4,
   "metadata": {},
   "outputs": [
    {
     "data": {
      "text/plain": [
       "62"
      ]
     },
     "execution_count": 4,
     "metadata": {},
     "output_type": "execute_result"
    }
   ],
   "source": [
    "nh = len(mensual)\n",
    "mensual = np.asarray(mensual)\n",
    "nh"
   ]
  },
  {
   "cell_type": "code",
   "execution_count": 5,
   "metadata": {},
   "outputs": [],
   "source": [
    "enero = np.asarray(mensual)\n",
    "enero = np.mean(enero, axis = 0)"
   ]
  },
  {
   "cell_type": "code",
   "execution_count": 15,
   "metadata": {},
   "outputs": [
    {
     "name": "stderr",
     "output_type": "stream",
     "text": [
      "/usr/local/lib/python2.7/dist-packages/ipykernel_launcher.py:4: MatplotlibDeprecationWarning: pyplot.hold is deprecated.\n",
      "    Future behavior will be consistent with the long-time default:\n",
      "    plot commands add elements without first clearing the\n",
      "    Axes and/or Figure.\n",
      "  after removing the cwd from sys.path.\n"
     ]
    },
    {
     "data": {
      "image/png": "[encoded data removed]",
      "text/plain": [
       "<Figure size 432x288 with 1 Axes>"
      ]
     },
     "metadata": {
      "needs_background": "light"
     },
     "output_type": "display_data"
    }
   ],
   "source": [
    "plt.figure()\n",
    "\n",
    "for i in range(nh):\n",
    "    plt.hold(True)\n",
    "    plt.semilogy(H, mensual[i,:], color = 'orange', lw=0.5)\n",
    "    #plt.semilogy(H, mensual[i,:], color = 'darkseagreen', lw=0.5)\n",
    "    plt.plot(H, enero, color = 'darkred')\n",
    "\n",
    "#scale_x = 100\n",
    "#scale_y = 1e3\n",
    "plt.xlabel(\"Altitud [m]\", fontsize=15)\n",
    "plt.ylabel(\"Profundidad atmosf\\'erica [g/cm$^2$]\", fontsize=15)\n",
    "plt.grid()\n",
    "plt.savefig('promedio_enero.pdf')\n",
    "plt.savefig('promedio_enero.png', format='png', dpi=600)\n",
    "plt.savefig('promedio_enero.eps', format='eps', dpi=600)\n",
    "plt.show()"
   ]
  },
  {
   "cell_type": "code",
   "execution_count": null,
   "metadata": {},
   "outputs": [],
   "source": []
  }
 ],
 "metadata": {
  "kernelspec": {
   "display_name": "Python 2",
   "language": "python",
   "name": "python2"
  },
  "language_info": {
   "codemirror_mode": {
    "name": "ipython",
    "version": 2
   },
   "file_extension": ".py",
   "mimetype": "text/x-python",
   "name": "python",
   "nbconvert_exporter": "python",
   "pygments_lexer": "ipython2",
   "version": "2.7.15+"
  }
 },
 "nbformat": 4,
 "nbformat_minor": 2
}
