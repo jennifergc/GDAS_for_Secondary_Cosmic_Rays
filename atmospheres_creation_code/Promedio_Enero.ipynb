{
 "cells": [
  {
   "cell_type": "code",
   "execution_count": 1,
   "metadata": {},
   "outputs": [],
   "source": [
    "import matplotlib.pyplot as plt\n",
    "import numpy as np\n",
    "from matplotlib import colors as mcolors"
   ]
  },
  {
   "cell_type": "code",
   "execution_count": 2,
   "metadata": {},
   "outputs": [],
   "source": [
    "data = np.loadtxt(\"enero/Atm_1514782800.dat\", comments =\"#\", skiprows=6)"
   ]
  },
  {
   "cell_type": "code",
   "execution_count": 3,
   "metadata": {},
   "outputs": [
    {
     "data": {
      "image/png": "[encoded data removed]",
      "text/plain": [
       "<Figure size 432x288 with 1 Axes>"
      ]
     },
     "metadata": {
      "needs_background": "light"
     },
     "output_type": "display_data"
    }
   ],
   "source": [
    "plt.figure()\n",
    "plt.plot(data[:,0],data[:,1])\n",
    "plt.xlabel(\"Altitude [m]\")\n",
    "plt.ylabel(\"Index\")\n",
    "plt.grid()\n",
    "plt.show()"
   ]
  },
  {
   "cell_type": "code",
   "execution_count": 4,
   "metadata": {},
   "outputs": [
    {
     "name": "stdout",
     "output_type": "stream",
     "text": [
      " 0.00000000E+00  3.77412177E+05  9.72651671E+05  2.64066848E+06  1.00000000E+07\n",
      "\n",
      "-1.65836212E+02 -7.85919244E+01 -5.51609217E+00  7.83257378E-04  1.12829200E-02\n",
      "\n",
      " 1.22303326E+03  1.14391794E+03  1.17635416E+03  1.78055138E+03  1.00000000E+00\n",
      "\n",
      " 1.04943190E+06  9.42171260E+05  7.73184298E+05  6.62854994E+05  1.00000000E+09\n",
      "\n"
     ]
    },
    {
     "data": {
      "text/plain": [
       "array([[ 0.00000000e+00,  3.77412177e+05,  9.72651671e+05,\n",
       "         2.64066848e+06,  1.00000000e+07],\n",
       "       [-1.65836212e+02, -7.85919244e+01, -5.51609217e+00,\n",
       "         7.83257378e-04,  1.12829200e-02],\n",
       "       [ 1.22303326e+03,  1.14391794e+03,  1.17635416e+03,\n",
       "         1.78055138e+03,  1.00000000e+00],\n",
       "       [ 1.04943190e+06,  9.42171260e+05,  7.73184298e+05,\n",
       "         6.62854994e+05,  1.00000000e+09]])"
      ]
     },
     "execution_count": 4,
     "metadata": {},
     "output_type": "execute_result"
    }
   ],
   "source": [
    "cnt = 0\n",
    "param = np.zeros((4,5))\n",
    "with open(\"enero/Atm_1514782800.dat\", \"r\") as file:\n",
    "    for line in file:\n",
    "        #print (line.split(\"'\")[1])\n",
    "        if line[0] != \"#\" and cnt <= 3:\n",
    "            print (line)\n",
    "            param[cnt,:] = line.split()\n",
    "            cnt = cnt + 1\n",
    "param"
   ]
  },
  {
   "cell_type": "code",
   "execution_count": 5,
   "metadata": {},
   "outputs": [
    {
     "data": {
      "text/plain": [
       "1143.91794"
      ]
     },
     "execution_count": 5,
     "metadata": {},
     "output_type": "execute_result"
    }
   ],
   "source": [
    "param[2,1]"
   ]
  },
  {
   "cell_type": "code",
   "execution_count": 6,
   "metadata": {},
   "outputs": [],
   "source": [
    "lay0 = param[0,0]\n",
    "lay1 = param[0,1]\n",
    "lay2 = param[0,2]\n",
    "lay3 = param[0,3]\n",
    "lay4 = param[0,4]"
   ]
  },
  {
   "cell_type": "code",
   "execution_count": 7,
   "metadata": {},
   "outputs": [
    {
     "name": "stdout",
     "output_type": "stream",
     "text": [
      "0.0 377412.177 972651.671 2640668.48 10000000.0\n"
     ]
    }
   ],
   "source": [
    "print(lay0,lay1,lay2,lay3,lay4)"
   ]
  },
  {
   "cell_type": "code",
   "execution_count": 8,
   "metadata": {},
   "outputs": [],
   "source": [
    "#capa 1\n",
    "a1 = param[1,0]\n",
    "b1 = param[2,0]\n",
    "c1 = param[3,0]\n",
    "#capa 2\n",
    "a2 = param[1,1]\n",
    "b2 = param[2,1]\n",
    "c2 = param[3,1]\n",
    "#capa 3\n",
    "a3 = param[1,2]\n",
    "b3 = param[2,2]\n",
    "c3 = param[3,2]\n",
    "#capa 4\n",
    "a4 = param[1,3]\n",
    "b4 = param[2,3]\n",
    "c4 = param[3,3]\n",
    "#capa 5\n",
    "a5 = param[1,4]\n",
    "b5 = param[2,4]\n",
    "c5 = param[3,4]"
   ]
  },
  {
   "cell_type": "code",
   "execution_count": 9,
   "metadata": {},
   "outputs": [],
   "source": [
    "h1 = np.linspace(lay0, lay1, 100)\n",
    "h2 = np.linspace(lay1, lay2, 100)\n",
    "h3 = np.linspace(lay2, lay3, 100)\n",
    "h4 = np.linspace(lay3, lay4, 100)\n",
    "h5 = np.linspace(lay4, 11200000, 100)\n",
    "\n",
    "d1 = a1+b1*np.exp(-h1/c1)\n",
    "d2 = a2+b2*np.exp(-h2/c2)\n",
    "d3 = a3+b3*np.exp(-h3/c3)\n",
    "d4 = a4+b4*np.exp(-h4/c4)\n",
    "d5 = a5-b5*(h5 / c5)"
   ]
  },
  {
   "cell_type": "code",
   "execution_count": 12,
   "metadata": {},
   "outputs": [
    {
     "data": {
      "image/png": "[encoded data removed]",
      "text/plain": [
       "<Figure size 432x288 with 1 Axes>"
      ]
     },
     "metadata": {
      "needs_background": "light"
     },
     "output_type": "display_data"
    }
   ],
   "source": [
    "plt.figure()\n",
    "#plt.semilogy(h1, d1, color = 'orange')\n",
    "plt.plot(h1, d1, color = 'orange')\n",
    "plt.plot(h2, d2, 'b')\n",
    "plt.plot(h3, d3, 'b')\n",
    "plt.plot(h4, d4, 'b')\n",
    "plt.plot(h5, d5, 'b')\n",
    "plt.xlabel(\"Altitude [m]\", fontsize=20)\n",
    "plt.ylabel(\"Densidad Superficial\", fontsize=20)\n",
    "plt.grid()\n",
    "plt.show()"
   ]
  },
  {
   "cell_type": "code",
   "execution_count": 11,
   "metadata": {},
   "outputs": [],
   "source": [
    "H=np.concatenate((h1,h2,h3,h4,h5), axis=0)\n",
    "D=np.concatenate((d1,d2,d3,d4,d5), axis=0)"
   ]
  },
  {
   "cell_type": "code",
   "execution_count": null,
   "metadata": {},
   "outputs": [],
   "source": [
    "plt.figure()\n",
    "plt.semilogy(H, D)\n",
    "plt.xlabel(\"Altitude [m]\", fontsize=20)\n",
    "plt.ylabel(\"Densidad Superficial\", fontsize=20)\n",
    "plt.grid()\n",
    "plt.show()"
   ]
  },
  {
   "cell_type": "markdown",
   "metadata": {},
   "source": [
    "### Plot de todos los archivos del mes"
   ]
  },
  {
   "cell_type": "code",
   "execution_count": 2,
   "metadata": {},
   "outputs": [
    {
     "name": "stdout",
     "output_type": "stream",
     "text": [
      "Atm_1514782800\n",
      "Atm_1514826000\n",
      "Atm_1514869200\n",
      "Atm_1514912400\n",
      "Atm_1514955600\n",
      "Atm_1514998800\n",
      "Atm_1515042000\n",
      "Atm_1515085200\n",
      "Atm_1515128400\n",
      "Atm_1515171600\n",
      "Atm_1515214800\n",
      "Atm_1515258000\n",
      "Atm_1515301200\n",
      "Atm_1515344400\n",
      "Atm_1515387600\n",
      "Atm_1515430800\n",
      "Atm_1515474000\n",
      "Atm_1515517200\n",
      "Atm_1515560400\n",
      "Atm_1515603600\n",
      "Atm_1515646800\n",
      "Atm_1515690000\n",
      "Atm_1515733200\n",
      "Atm_1515776400\n",
      "Atm_1515819600\n",
      "Atm_1515862800\n",
      "Atm_1515906000\n",
      "Atm_1515949200\n",
      "Atm_1515992400\n",
      "Atm_1516035600\n",
      "Atm_1516078800\n",
      "Atm_1516122000\n",
      "Atm_1516165200\n",
      "Atm_1516208400\n",
      "Atm_1516251600\n",
      "Atm_1516294800\n",
      "Atm_1516338000\n",
      "Atm_1516381200\n",
      "Atm_1516424400\n",
      "Atm_1516467600\n",
      "Atm_1516510800\n",
      "Atm_1516554000\n",
      "Atm_1516597200\n",
      "Atm_1516640400\n",
      "Atm_1516683600\n",
      "Atm_1516726800\n",
      "Atm_1516770000\n",
      "Atm_1516813200\n",
      "Atm_1516856400\n",
      "Atm_1516899600\n",
      "Atm_1516942800\n",
      "Atm_1516986000\n",
      "Atm_1517029200\n",
      "Atm_1517072400\n",
      "Atm_1517115600\n",
      "Atm_1517158800\n",
      "Atm_1517202000\n",
      "Atm_1517245200\n",
      "Atm_1517288400\n",
      "Atm_1517331600\n",
      "Atm_1517374800\n",
      "Atm_1517418000\n"
     ]
    }
   ],
   "source": [
    "mensual = []\n",
    "\n",
    "for i in range(1514782800, 1517418001, 43200):\n",
    "\n",
    "    name = \"Atm_\" + str(i)\n",
    "    print(name)\n",
    "    \n",
    "    cnt = 0\n",
    "    param = np.zeros((4,5))\n",
    "    \n",
    "    with open(\"enero/\" + name + \".dat\", \"r\") as file:\n",
    "        for line in file:\n",
    "            if line[0] != \"#\" and cnt <= 3:\n",
    " \n",
    "                param[cnt,:] = line.split()\n",
    "                cnt = cnt + 1\n",
    "                \n",
    "    lay0 = param[0,0]\n",
    "    lay1 = param[0,1]\n",
    "    lay2 = param[0,2]\n",
    "    lay3 = param[0,3]\n",
    "    lay4 = param[0,4]\n",
    "\n",
    "    #capa 1\n",
    "    a1 = param[1,0]\n",
    "    b1 = param[2,0]\n",
    "    c1 = param[3,0]\n",
    "    #capa 2\n",
    "    a2 = param[1,1]\n",
    "    b2 = param[2,1]\n",
    "    c2 = param[3,1]\n",
    "    #capa 3\n",
    "    a3 = param[1,2]\n",
    "    b3 = param[2,2]\n",
    "    c3 = param[3,2]\n",
    "    #capa 4\n",
    "    a4 = param[1,3]\n",
    "    b4 = param[2,3]\n",
    "    c4 = param[3,3]\n",
    "    #capa 5\n",
    "    a5 = param[1,4]\n",
    "    b5 = param[2,4]\n",
    "    c5 = param[3,4]\n",
    "    \n",
    "    h1 = np.linspace(lay0, lay1, 100)\n",
    "    h2 = np.linspace(lay1, lay2, 100)\n",
    "    h3 = np.linspace(lay2, lay3, 100)\n",
    "    h4 = np.linspace(lay3, lay4, 100)\n",
    "    h5 = np.linspace(lay4, 11200000, 100)\n",
    "\n",
    "    d1 = a1+b1*np.exp(-h1/c1)\n",
    "    d2 = a2+b2*np.exp(-h2/c2)\n",
    "    d3 = a3+b3*np.exp(-h3/c3)\n",
    "    d4 = a4+b4*np.exp(-h4/c4)\n",
    "    d5 = a5-b5*(h5 / c5)\n",
    "    \n",
    "    H=np.concatenate((h1,h2,h3,h4,h5), axis=0)\n",
    "    D=np.concatenate((d1,d2,d3,d4,d5), axis=0)\n",
    "    \n",
    "    mensual.append(D)"
   ]
  },
  {
   "cell_type": "code",
   "execution_count": 3,
   "metadata": {},
   "outputs": [
    {
     "data": {
      "text/plain": [
       "62"
      ]
     },
     "execution_count": 3,
     "metadata": {},
     "output_type": "execute_result"
    }
   ],
   "source": [
    "nh = len(mensual)\n",
    "mensual = np.asarray(mensual)\n",
    "nh"
   ]
  },
  {
   "cell_type": "code",
   "execution_count": null,
   "metadata": {},
   "outputs": [],
   "source": [
    "plt.figure()\n",
    "\n",
    "for i in range(nh):\n",
    "    plt.hold(True)\n",
    "    plt.semilogy(H, mensual[i,:], color = 'orange')\n",
    "\n",
    "plt.xlabel(\"Altitud [m]\", fontsize=12)\n",
    "plt.ylabel(\"Densidad Superficial\", fontsize=12)\n",
    "plt.grid()\n",
    "plt.savefig('perfiles_enero.pdf')\n",
    "plt.show()"
   ]
  },
  {
   "cell_type": "code",
   "execution_count": 4,
   "metadata": {},
   "outputs": [],
   "source": [
    "enero = np.asarray(mensual)\n",
    "enero = np.mean(enero, axis = 0)"
   ]
  },
  {
   "cell_type": "code",
   "execution_count": 8,
   "metadata": {},
   "outputs": [
    {
     "name": "stderr",
     "output_type": "stream",
     "text": [
      "/usr/local/lib/python2.7/dist-packages/ipykernel_launcher.py:4: MatplotlibDeprecationWarning: pyplot.hold is deprecated.\n",
      "    Future behavior will be consistent with the long-time default:\n",
      "    plot commands add elements without first clearing the\n",
      "    Axes and/or Figure.\n",
      "  after removing the cwd from sys.path.\n"
     ]
    },
    {
     "data": {
      "image/png": "[encoded data removed]",
      "text/plain": [
       "<Figure size 432x288 with 1 Axes>"
      ]
     },
     "metadata": {
      "needs_background": "light"
     },
     "output_type": "display_data"
    }
   ],
   "source": [
    "plt.figure()\n",
    "\n",
    "for i in range(nh):\n",
    "    plt.hold(True)\n",
    "    plt.semilogy(H/1e5, mensual[i,:], color = 'orange')\n",
    "    \n",
    "\n",
    "    plt.plot(H/1e5, enero, color = 'darkred')\n",
    "    plt.legend(['Perfiles diarios','Promedio'], loc=0 , fontsize=10)\n",
    "\n",
    "\n",
    "plt.xlabel(\"Altitud [km]\", fontsize=12)\n",
    "plt.ylabel(\"Profundidad atmosf\\'erica [g/cm$^2$]\", fontsize=12)\n",
    "plt.grid()\n",
    "plt.savefig('promedio_enero.pdf')\n",
    "plt.savefig('promedio_enero.png', format='png', dpi=600)\n",
    "plt.savefig('promedio_enero.eps', format='eps', dpi=600)\n",
    "plt.show()"
   ]
  },
  {
   "cell_type": "code",
   "execution_count": null,
   "metadata": {},
   "outputs": [],
   "source": []
  }
 ],
 "metadata": {
  "kernelspec": {
   "display_name": "Python 2",
   "language": "python",
   "name": "python2"
  },
  "language_info": {
   "codemirror_mode": {
    "name": "ipython",
    "version": 3
   },
   "file_extension": ".py",
   "mimetype": "text/x-python",
   "name": "python",
   "nbconvert_exporter": "python",
   "pygments_lexer": "ipython3",
   "version": "3.7.4"
  }
 },
 "nbformat": 4,
 "nbformat_minor": 2
}
