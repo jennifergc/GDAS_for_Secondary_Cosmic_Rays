{
 "cells": [
  {
   "cell_type": "code",
   "execution_count": null,
   "metadata": {},
   "outputs": [],
   "source": [
    "import matplotlib.pyplot as plt\n",
    "import numpy as np\n",
    "from matplotlib import colors as mcolors"
   ]
  },
  {
   "cell_type": "code",
   "execution_count": null,
   "metadata": {},
   "outputs": [],
   "source": [
    "data = np.loadtxt(\"salida900.hst\", comments =\"#\", skiprows=6)"
   ]
  },
  {
   "cell_type": "code",
   "execution_count": null,
   "metadata": {},
   "outputs": [],
   "source": [
    "cnt = 0\n",
    "param = np.zeros((4,5))\n",
    "with open(salida900.hst, \"r\") as file:\n",
    "    while cnt =! \"#\":\n",
    "    for line in file:\n",
    "        #print (line.split(\"'\")[1])\n",
    "        if line[0] != \"#\" and cnt <= 150:\n",
    "            print (line)\n",
    "            param[cnt,:] = line.split()\n",
    "            cnt = cnt + 1\n",
    "param"
   ]
  }
 ],
 "metadata": {
  "kernelspec": {
   "display_name": "Python 2",
   "language": "python",
   "name": "python2"
  },
  "language_info": {
   "codemirror_mode": {
    "name": "ipython",
    "version": 3
   },
   "file_extension": ".py",
   "mimetype": "text/x-python",
   "name": "python",
   "nbconvert_exporter": "python",
   "pygments_lexer": "ipython3",
   "version": "3.6.9"
  }
 },
 "nbformat": 4,
 "nbformat_minor": 2
}
